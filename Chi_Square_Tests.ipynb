{
  "nbformat": 4,
  "nbformat_minor": 0,
  "metadata": {
    "kernelspec": {
      "display_name": "Python 3",
      "language": "python",
      "name": "python3"
    },
    "language_info": {
      "codemirror_mode": {
        "name": "ipython",
        "version": 3
      },
      "file_extension": ".py",
      "mimetype": "text/x-python",
      "name": "python",
      "nbconvert_exporter": "python",
      "pygments_lexer": "ipython3",
      "version": "3.7.4"
    },
    "colab": {
      "name": "Chi-Square_Tests.ipynb",
      "provenance": [],
      "collapsed_sections": [],
      "include_colab_link": true
    }
  },
  "cells": [
    {
      "cell_type": "markdown",
      "metadata": {
        "id": "view-in-github",
        "colab_type": "text"
      },
      "source": [
        "<a href=\"https://colab.research.google.com/github/salimunlu47/scipy-chisquare-tests/blob/main/Chi_Square_Tests.ipynb\" target=\"_parent\"><img src=\"https://colab.research.google.com/assets/colab-badge.svg\" alt=\"Open In Colab\"/></a>"
      ]
    },
    {
      "cell_type": "markdown",
      "metadata": {
        "id": "bta5c0Igap7d"
      },
      "source": [
        "# Chi-Square Goodness-of-Fit Test"
      ]
    },
    {
      "cell_type": "markdown",
      "metadata": {
        "id": "j6IrUkv2ap7j"
      },
      "source": [
        "A website owner, Christopher, wants to offer a free gift to people that purchase a subscription to his website. New subscribers can choose one of three gifts of equal value: a gift voucher, a cuddly toy or free cinema tickets. After 900 people have signed up, Christopher wants to review the figures to see if the three gifts offered were equally popular."
      ]
    },
    {
      "cell_type": "code",
      "metadata": {
        "id": "K4hKjJqSap7j"
      },
      "source": [
        "from scipy import stats\n",
        "import numpy as np\n",
        "import pandas as pd\n",
        "import seaborn as sns\n",
        "import itertools"
      ],
      "execution_count": null,
      "outputs": []
    },
    {
      "cell_type": "markdown",
      "metadata": {
        "id": "yCEMbHM8ap7k"
      },
      "source": [
        "Create a numpy array"
      ]
    },
    {
      "cell_type": "code",
      "metadata": {
        "id": "GCjf6jn1ap7k",
        "outputId": "f25c4374-bcbd-4290-f409-5bc3af12e79a"
      },
      "source": [
        "e = [\"Gift Certificate\", \"Cuddly Toy\", \"Cinema Tickets\"]\n",
        "n = [315, 265, 320]\n",
        "\n",
        "it1 = np.array(list(itertools.repeat(e[0],n[0])))\n",
        "it2 = np.array(list(itertools.repeat(e[1],n[1])))\n",
        "it3 = np.array(list(itertools.repeat(e[2],n[2])))\n",
        "\n",
        "it = [it1, it2, it3]\n",
        "len(it)"
      ],
      "execution_count": null,
      "outputs": [
        {
          "output_type": "execute_result",
          "data": {
            "text/plain": [
              "3"
            ]
          },
          "metadata": {
            "tags": []
          },
          "execution_count": 2
        }
      ]
    },
    {
      "cell_type": "code",
      "metadata": {
        "id": "qVAJhJzHap7l",
        "outputId": "a2c352fc-1f74-420d-a8d6-a6014ed42f90"
      },
      "source": [
        "len(np.concatenate(it))"
      ],
      "execution_count": null,
      "outputs": [
        {
          "output_type": "execute_result",
          "data": {
            "text/plain": [
              "900"
            ]
          },
          "metadata": {
            "tags": []
          },
          "execution_count": 3
        }
      ]
    },
    {
      "cell_type": "code",
      "metadata": {
        "id": "vYIp618bap7m"
      },
      "source": [
        "gift_type = np.concatenate(it)"
      ],
      "execution_count": null,
      "outputs": []
    },
    {
      "cell_type": "code",
      "metadata": {
        "id": "inur3lnEap7m",
        "outputId": "f6040e64-def3-49a6-98f0-986822937464"
      },
      "source": [
        "unique_elements, counts_elements = np.unique(gift_type, return_counts=True)\n",
        "unique_elements, counts_elements"
      ],
      "execution_count": null,
      "outputs": [
        {
          "output_type": "execute_result",
          "data": {
            "text/plain": [
              "(array(['Cinema Tickets', 'Cuddly Toy', 'Gift Certificate'], dtype='<U16'),\n",
              " array([320, 265, 315], dtype=int64))"
            ]
          },
          "metadata": {
            "tags": []
          },
          "execution_count": 5
        }
      ]
    },
    {
      "cell_type": "markdown",
      "metadata": {
        "id": "Ze1W32geap7m"
      },
      "source": [
        "## One-way Chi-square Test"
      ]
    },
    {
      "cell_type": "markdown",
      "metadata": {
        "id": "yyS12m3oap7n"
      },
      "source": [
        "<i>H<i/><sub>0</sub>: \"there is no significant difference between the observed and the theoretival distribution\"<br>\n",
        "<i>H<i/><sub>1</sub>: \"there is a significant difference between the observed and the theoretival distribution\""
      ]
    },
    {
      "cell_type": "markdown",
      "metadata": {
        "id": "VYXIwKv5ap7n"
      },
      "source": [
        "### Manuel Calculation"
      ]
    },
    {
      "cell_type": "markdown",
      "metadata": {
        "id": "x6nXA2Xiap7n"
      },
      "source": [
        "<table>\n",
        "    <tbody>\n",
        "        <tr>\n",
        "            <td>&nbsp;</td>\n",
        "            <td><em>Observed</em></td>\n",
        "            <td><em>Expected</em></td>\n",
        "            <td><em>Difference</em></td>\n",
        "            <td><em>Difference Sq.</em></td>\n",
        "            <td><em>Diff. Sq. / Exp Fr.</em></td>\n",
        "        </tr>\n",
        "        <tr>\n",
        "            <td><span id=\"ctl00_MainContent_Label6\"><b>Gift Certificate</b></span></td>\n",
        "            <td><span id=\"ctl00_MainContent_Label100\">315</span></td>\n",
        "            <td><span id=\"ctl00_MainContent_Label105\">300</span></td>\n",
        "            <td>&nbsp;&nbsp;<span id=\"ctl00_MainContent_Label110\">15.00</span></td>\n",
        "            <td>&nbsp;&nbsp;<span id=\"ctl00_MainContent_Label115\">225.00</span></td>\n",
        "            <td>&nbsp;&nbsp;<span id=\"ctl00_MainContent_Label120\">0.75</span></td>\n",
        "        </tr>\n",
        "        <tr>\n",
        "            <td><span id=\"ctl00_MainContent_Label7\"><b>Cuddly Toy</b></span></td>\n",
        "            <td><span id=\"ctl00_MainContent_Label101\">265</span></td>\n",
        "            <td><span id=\"ctl00_MainContent_Label106\">300</span></td>\n",
        "            <td>&nbsp;&nbsp;<span id=\"ctl00_MainContent_Label111\">-35.00</span></td>\n",
        "            <td>&nbsp;&nbsp;<span id=\"ctl00_MainContent_Label116\">1225.00</span></td>\n",
        "            <td>&nbsp;&nbsp;<span id=\"ctl00_MainContent_Label121\">4.08</span></td>\n",
        "        </tr>\n",
        "        <tr>\n",
        "            <td><span id=\"ctl00_MainContent_Label8\"><b>Cinema Tickets</b></span></td>\n",
        "            <td><span id=\"ctl00_MainContent_Label102\">320</span></td>\n",
        "            <td><span id=\"ctl00_MainContent_Label107\">300</span></td>\n",
        "            <td>&nbsp;&nbsp;<span id=\"ctl00_MainContent_Label112\">20.00</span></td>\n",
        "            <td>&nbsp;&nbsp;<span id=\"ctl00_MainContent_Label117\">400.00</span></td>\n",
        "            <td>&nbsp;&nbsp;<span id=\"ctl00_MainContent_Label122\">1.33</span></td>\n",
        "        </tr>\n",
        "        <tr>\n",
        "            <td></td>\n",
        "            <td></td>\n",
        "            <td></td>\n",
        "            <td>&nbsp;</td>\n",
        "            <td>&nbsp;</td>\n",
        "            <td>&nbsp;</td>\n",
        "        </tr>\n",
        "        <tr>\n",
        "            <td>&nbsp;</td>\n",
        "            <td>&nbsp;</td>\n",
        "            <td>&nbsp;</td>\n",
        "            <td>&nbsp;</td>\n",
        "            <td>&nbsp;</td>\n",
        "            <td>&nbsp;&nbsp;<span id=\"ctl00_MainContent_Label125\">6.167</span></td>\n",
        "        </tr>\n",
        "    </tbody>\n",
        "</table>"
      ]
    },
    {
      "cell_type": "code",
      "metadata": {
        "id": "w_vxlDBhap7o",
        "outputId": "46ecae42-04a5-46c9-9df6-edb4bc0e8765"
      },
      "source": [
        "1 - stats.chi2.cdf(6.167, 2)"
      ],
      "execution_count": null,
      "outputs": [
        {
          "output_type": "execute_result",
          "data": {
            "text/plain": [
              "0.045798680423089544"
            ]
          },
          "metadata": {
            "tags": []
          },
          "execution_count": 6
        }
      ]
    },
    {
      "cell_type": "markdown",
      "metadata": {
        "id": "DmDgKPOyap7o"
      },
      "source": [
        "### scipy.stats.chisquare"
      ]
    },
    {
      "cell_type": "code",
      "metadata": {
        "id": "n_PC7q9Oap7o",
        "outputId": "adbb5290-0d04-4d8c-98e8-f76f68428c0a"
      },
      "source": [
        "test = stats.chisquare(counts_elements)\n",
        "test"
      ],
      "execution_count": null,
      "outputs": [
        {
          "output_type": "execute_result",
          "data": {
            "text/plain": [
              "Power_divergenceResult(statistic=6.166666666666666, pvalue=0.04580631417262148)"
            ]
          },
          "metadata": {
            "tags": []
          },
          "execution_count": 7
        }
      ]
    },
    {
      "cell_type": "markdown",
      "metadata": {
        "id": "SvvZ_Q_sap7p"
      },
      "source": [
        "![image.png](attachment:image.png)"
      ]
    },
    {
      "cell_type": "code",
      "metadata": {
        "id": "8KaPBj-sap7p",
        "outputId": "683ca4f0-1efb-437b-88f7-0c6c54ff028a"
      },
      "source": [
        "print('Statistics=%.3f, p=%.3f' % (test.statistic, test.pvalue))\n",
        "# interpret\n",
        "alpha = 0.05\n",
        "if test.pvalue > alpha:\n",
        "\tprint('there is no significant difference between the observed and the theoretical distribution (fail to reject H0)')\n",
        "else:\n",
        "\tprint('there is a significant difference between the observed and the theoretical distribution (reject H0)')"
      ],
      "execution_count": null,
      "outputs": [
        {
          "output_type": "stream",
          "text": [
            "Statistics=6.167, p=0.046\n",
            "there is a significant difference between the observed and the theoretical distribution (reject H0)\n"
          ],
          "name": "stdout"
        }
      ]
    },
    {
      "cell_type": "markdown",
      "metadata": {
        "id": "ghmOJAw1ap7p"
      },
      "source": [
        "We can see that our test statistic is statistically significant: χ2(2) = 6.167, p < .05. Therefore, we can reject the null hypothesis and conclude that there are statistically significant differences in the preference of the type of sign-up gift."
      ]
    },
    {
      "cell_type": "markdown",
      "metadata": {
        "id": "sv7SVhgyap7q"
      },
      "source": [
        "# Chi-Square Test of Association"
      ]
    },
    {
      "cell_type": "markdown",
      "metadata": {
        "id": "iEvqz4NYap7q"
      },
      "source": [
        "The Chi-Square Test of Independence determines whether there is an association between categorical variables (i.e., whether the variables are independent or related).\n",
        "\n",
        "This test is also known as:\n",
        "*Chi-Square Test of Independence*."
      ]
    },
    {
      "cell_type": "markdown",
      "metadata": {
        "id": "j3wp8Warap7q"
      },
      "source": [
        "## PROBLEM STATEMENT"
      ]
    },
    {
      "cell_type": "markdown",
      "metadata": {
        "id": "vHM_L3Iaap7q"
      },
      "source": [
        "In the dataset, respondents were asked their gender and whether or not they were a cigarette smoker. There were three answer choices: Nonsmoker, Past smoker, and Current smoker. Suppose we want to test for an association between smoking behavior (nonsmoker, current smoker, or past smoker) and gender (male or female) using a Chi-Square Test of Independence (we'll use α = 0.05)."
      ]
    },
    {
      "cell_type": "code",
      "metadata": {
        "id": "zhR97U2dap7r"
      },
      "source": [
        "survey = pd.read_csv('https://raw.githubusercontent.com/clarusway/clarusway-ds-students-7-21/main/3-%20Classes_Labs/Statistics/data/university_survey_2014.csv?token=APETIROZYARCUZFS4XM2F33ARM2D2')"
      ],
      "execution_count": null,
      "outputs": []
    },
    {
      "cell_type": "code",
      "metadata": {
        "id": "1c3P95Mgap7r",
        "outputId": "247ed0f7-a27a-4618-d5e1-feab2a7035de"
      },
      "source": [
        "survey.head()"
      ],
      "execution_count": null,
      "outputs": [
        {
          "output_type": "execute_result",
          "data": {
            "text/html": [
              "<div>\n",
              "<style scoped>\n",
              "    .dataframe tbody tr th:only-of-type {\n",
              "        vertical-align: middle;\n",
              "    }\n",
              "\n",
              "    .dataframe tbody tr th {\n",
              "        vertical-align: top;\n",
              "    }\n",
              "\n",
              "    .dataframe thead th {\n",
              "        text-align: right;\n",
              "    }\n",
              "</style>\n",
              "<table border=\"1\" class=\"dataframe\">\n",
              "  <thead>\n",
              "    <tr style=\"text-align: right;\">\n",
              "      <th></th>\n",
              "      <th>ids</th>\n",
              "      <th>bday</th>\n",
              "      <th>enrolldate</th>\n",
              "      <th>expgradate</th>\n",
              "      <th>Rank</th>\n",
              "      <th>Major</th>\n",
              "      <th>Gender</th>\n",
              "      <th>Athlete</th>\n",
              "      <th>Height</th>\n",
              "      <th>Weight</th>\n",
              "      <th>...</th>\n",
              "      <th>English</th>\n",
              "      <th>Reading</th>\n",
              "      <th>Math</th>\n",
              "      <th>Writing</th>\n",
              "      <th>State</th>\n",
              "      <th>LiveOnCampus</th>\n",
              "      <th>HowCommute</th>\n",
              "      <th>CommuteTime</th>\n",
              "      <th>SleepTime</th>\n",
              "      <th>StudyTime</th>\n",
              "    </tr>\n",
              "  </thead>\n",
              "  <tbody>\n",
              "    <tr>\n",
              "      <td>0</td>\n",
              "      <td>43783</td>\n",
              "      <td>3/22/1995</td>\n",
              "      <td></td>\n",
              "      <td></td>\n",
              "      <td></td>\n",
              "      <td></td>\n",
              "      <td>0</td>\n",
              "      <td>0</td>\n",
              "      <td>72.35</td>\n",
              "      <td></td>\n",
              "      <td>...</td>\n",
              "      <td>88.24</td>\n",
              "      <td>81.5</td>\n",
              "      <td>60.02</td>\n",
              "      <td>81.44</td>\n",
              "      <td>In state</td>\n",
              "      <td>1</td>\n",
              "      <td></td>\n",
              "      <td></td>\n",
              "      <td>7</td>\n",
              "      <td>1</td>\n",
              "    </tr>\n",
              "    <tr>\n",
              "      <td>1</td>\n",
              "      <td>20278</td>\n",
              "      <td>1/1/1995</td>\n",
              "      <td></td>\n",
              "      <td></td>\n",
              "      <td></td>\n",
              "      <td>Philosophy</td>\n",
              "      <td>0</td>\n",
              "      <td>0</td>\n",
              "      <td>70.66</td>\n",
              "      <td>179.2</td>\n",
              "      <td>...</td>\n",
              "      <td>89.45</td>\n",
              "      <td>85.25</td>\n",
              "      <td>70.19</td>\n",
              "      <td>73.27</td>\n",
              "      <td></td>\n",
              "      <td>1</td>\n",
              "      <td></td>\n",
              "      <td></td>\n",
              "      <td>5</td>\n",
              "      <td>2</td>\n",
              "    </tr>\n",
              "    <tr>\n",
              "      <td>2</td>\n",
              "      <td>20389</td>\n",
              "      <td>12/31/1994</td>\n",
              "      <td></td>\n",
              "      <td></td>\n",
              "      <td></td>\n",
              "      <td></td>\n",
              "      <td>0</td>\n",
              "      <td>0</td>\n",
              "      <td>70.68</td>\n",
              "      <td>198.52</td>\n",
              "      <td>...</td>\n",
              "      <td>96.73</td>\n",
              "      <td>86.88</td>\n",
              "      <td>71.2</td>\n",
              "      <td>84.24</td>\n",
              "      <td>In state</td>\n",
              "      <td></td>\n",
              "      <td></td>\n",
              "      <td></td>\n",
              "      <td>8</td>\n",
              "      <td>7</td>\n",
              "    </tr>\n",
              "    <tr>\n",
              "      <td>3</td>\n",
              "      <td>22820</td>\n",
              "      <td>12/1/1994</td>\n",
              "      <td></td>\n",
              "      <td></td>\n",
              "      <td></td>\n",
              "      <td>business administration</td>\n",
              "      <td>1</td>\n",
              "      <td>0</td>\n",
              "      <td></td>\n",
              "      <td>198.34</td>\n",
              "      <td>...</td>\n",
              "      <td>74.06</td>\n",
              "      <td>88.68</td>\n",
              "      <td>55.89</td>\n",
              "      <td>73.16</td>\n",
              "      <td>In state</td>\n",
              "      <td>1</td>\n",
              "      <td></td>\n",
              "      <td></td>\n",
              "      <td>2</td>\n",
              "      <td>6</td>\n",
              "    </tr>\n",
              "    <tr>\n",
              "      <td>4</td>\n",
              "      <td>24559</td>\n",
              "      <td>11/10/1994</td>\n",
              "      <td></td>\n",
              "      <td></td>\n",
              "      <td></td>\n",
              "      <td></td>\n",
              "      <td>1</td>\n",
              "      <td>1</td>\n",
              "      <td>67.43</td>\n",
              "      <td>128.17</td>\n",
              "      <td>...</td>\n",
              "      <td>82.61</td>\n",
              "      <td>77.3</td>\n",
              "      <td>65.52</td>\n",
              "      <td>80.45</td>\n",
              "      <td>Out of state</td>\n",
              "      <td>1</td>\n",
              "      <td></td>\n",
              "      <td></td>\n",
              "      <td>7</td>\n",
              "      <td>3</td>\n",
              "    </tr>\n",
              "  </tbody>\n",
              "</table>\n",
              "<p>5 rows × 23 columns</p>\n",
              "</div>"
            ],
            "text/plain": [
              "     ids        bday enrolldate expgradate Rank                    Major  \\\n",
              "0  43783   3/22/1995                                                       \n",
              "1  20278    1/1/1995                                          Philosophy   \n",
              "2  20389  12/31/1994                                                       \n",
              "3  22820   12/1/1994                             business administration   \n",
              "4  24559  11/10/1994                                                       \n",
              "\n",
              "  Gender  Athlete Height  Weight  ... English Reading   Math Writing  \\\n",
              "0      0        0  72.35          ...   88.24    81.5  60.02   81.44   \n",
              "1      0        0  70.66   179.2  ...   89.45   85.25  70.19   73.27   \n",
              "2      0        0  70.68  198.52  ...   96.73   86.88   71.2   84.24   \n",
              "3      1        0         198.34  ...   74.06   88.68  55.89   73.16   \n",
              "4      1        1  67.43  128.17  ...   82.61    77.3  65.52   80.45   \n",
              "\n",
              "          State LiveOnCampus HowCommute CommuteTime SleepTime StudyTime  \n",
              "0      In state            1                                7         1  \n",
              "1                          1                                5         2  \n",
              "2      In state                                             8         7  \n",
              "3      In state            1                                2         6  \n",
              "4  Out of state            1                                7         3  \n",
              "\n",
              "[5 rows x 23 columns]"
            ]
          },
          "metadata": {
            "tags": []
          },
          "execution_count": 10
        }
      ]
    },
    {
      "cell_type": "code",
      "metadata": {
        "id": "bqHR7fq3ap7r",
        "outputId": "e0382e12-acac-427e-b0b0-359a20777601"
      },
      "source": [
        "test = [\"Gender\", \"Smoking\"]\n",
        "\n",
        "testset = survey[test]\n",
        "testset"
      ],
      "execution_count": null,
      "outputs": [
        {
          "output_type": "execute_result",
          "data": {
            "text/html": [
              "<div>\n",
              "<style scoped>\n",
              "    .dataframe tbody tr th:only-of-type {\n",
              "        vertical-align: middle;\n",
              "    }\n",
              "\n",
              "    .dataframe tbody tr th {\n",
              "        vertical-align: top;\n",
              "    }\n",
              "\n",
              "    .dataframe thead th {\n",
              "        text-align: right;\n",
              "    }\n",
              "</style>\n",
              "<table border=\"1\" class=\"dataframe\">\n",
              "  <thead>\n",
              "    <tr style=\"text-align: right;\">\n",
              "      <th></th>\n",
              "      <th>Gender</th>\n",
              "      <th>Smoking</th>\n",
              "    </tr>\n",
              "  </thead>\n",
              "  <tbody>\n",
              "    <tr>\n",
              "      <td>0</td>\n",
              "      <td>0</td>\n",
              "      <td>0</td>\n",
              "    </tr>\n",
              "    <tr>\n",
              "      <td>1</td>\n",
              "      <td>0</td>\n",
              "      <td>0</td>\n",
              "    </tr>\n",
              "    <tr>\n",
              "      <td>2</td>\n",
              "      <td>0</td>\n",
              "      <td>0</td>\n",
              "    </tr>\n",
              "    <tr>\n",
              "      <td>3</td>\n",
              "      <td>1</td>\n",
              "      <td></td>\n",
              "    </tr>\n",
              "    <tr>\n",
              "      <td>4</td>\n",
              "      <td>1</td>\n",
              "      <td>2</td>\n",
              "    </tr>\n",
              "    <tr>\n",
              "      <td>...</td>\n",
              "      <td>...</td>\n",
              "      <td>...</td>\n",
              "    </tr>\n",
              "    <tr>\n",
              "      <td>430</td>\n",
              "      <td>1</td>\n",
              "      <td>0</td>\n",
              "    </tr>\n",
              "    <tr>\n",
              "      <td>431</td>\n",
              "      <td>0</td>\n",
              "      <td>0</td>\n",
              "    </tr>\n",
              "    <tr>\n",
              "      <td>432</td>\n",
              "      <td>0</td>\n",
              "      <td>0</td>\n",
              "    </tr>\n",
              "    <tr>\n",
              "      <td>433</td>\n",
              "      <td>1</td>\n",
              "      <td>2</td>\n",
              "    </tr>\n",
              "    <tr>\n",
              "      <td>434</td>\n",
              "      <td>1</td>\n",
              "      <td>1</td>\n",
              "    </tr>\n",
              "  </tbody>\n",
              "</table>\n",
              "<p>435 rows × 2 columns</p>\n",
              "</div>"
            ],
            "text/plain": [
              "    Gender Smoking\n",
              "0        0       0\n",
              "1        0       0\n",
              "2        0       0\n",
              "3        1        \n",
              "4        1       2\n",
              "..     ...     ...\n",
              "430      1       0\n",
              "431      0       0\n",
              "432      0       0\n",
              "433      1       2\n",
              "434      1       1\n",
              "\n",
              "[435 rows x 2 columns]"
            ]
          },
          "metadata": {
            "tags": []
          },
          "execution_count": 11
        }
      ]
    },
    {
      "cell_type": "code",
      "metadata": {
        "id": "rMh6pPruap7s",
        "outputId": "e232df45-26a3-46d7-c0bf-ab85a119bf1a"
      },
      "source": [
        "testset[\"Gender\"] = pd.to_numeric(testset[\"Gender\"],errors='coerce')\n",
        "testset[\"Smoking\"] = pd.to_numeric(testset[\"Smoking\"],errors='coerce')"
      ],
      "execution_count": null,
      "outputs": [
        {
          "output_type": "stream",
          "text": [
            "C:\\Users\\salim\\Anaconda3\\lib\\site-packages\\ipykernel_launcher.py:1: SettingWithCopyWarning: \n",
            "A value is trying to be set on a copy of a slice from a DataFrame.\n",
            "Try using .loc[row_indexer,col_indexer] = value instead\n",
            "\n",
            "See the caveats in the documentation: http://pandas.pydata.org/pandas-docs/stable/user_guide/indexing.html#returning-a-view-versus-a-copy\n",
            "  \"\"\"Entry point for launching an IPython kernel.\n",
            "C:\\Users\\salim\\Anaconda3\\lib\\site-packages\\ipykernel_launcher.py:2: SettingWithCopyWarning: \n",
            "A value is trying to be set on a copy of a slice from a DataFrame.\n",
            "Try using .loc[row_indexer,col_indexer] = value instead\n",
            "\n",
            "See the caveats in the documentation: http://pandas.pydata.org/pandas-docs/stable/user_guide/indexing.html#returning-a-view-versus-a-copy\n",
            "  \n"
          ],
          "name": "stderr"
        }
      ]
    },
    {
      "cell_type": "code",
      "metadata": {
        "id": "g2Kb7dFpap7s",
        "outputId": "a90d666a-b1f0-4924-ad97-61e7aadd3e46"
      },
      "source": [
        "testset[\"Smoking\"] = testset[\"Smoking\"].replace([0,1,2],[\"Nonsmoker\", \"Past smoker\",\"Current smoker\"])\n",
        "\n",
        "testset[\"Smoking\"]"
      ],
      "execution_count": null,
      "outputs": [
        {
          "output_type": "stream",
          "text": [
            "C:\\Users\\salim\\Anaconda3\\lib\\site-packages\\ipykernel_launcher.py:1: SettingWithCopyWarning: \n",
            "A value is trying to be set on a copy of a slice from a DataFrame.\n",
            "Try using .loc[row_indexer,col_indexer] = value instead\n",
            "\n",
            "See the caveats in the documentation: http://pandas.pydata.org/pandas-docs/stable/user_guide/indexing.html#returning-a-view-versus-a-copy\n",
            "  \"\"\"Entry point for launching an IPython kernel.\n"
          ],
          "name": "stderr"
        },
        {
          "output_type": "execute_result",
          "data": {
            "text/plain": [
              "0           Nonsmoker\n",
              "1           Nonsmoker\n",
              "2           Nonsmoker\n",
              "3                 NaN\n",
              "4      Current smoker\n",
              "            ...      \n",
              "430         Nonsmoker\n",
              "431         Nonsmoker\n",
              "432         Nonsmoker\n",
              "433    Current smoker\n",
              "434       Past smoker\n",
              "Name: Smoking, Length: 435, dtype: object"
            ]
          },
          "metadata": {
            "tags": []
          },
          "execution_count": 13
        }
      ]
    },
    {
      "cell_type": "code",
      "metadata": {
        "id": "qYGaO4tEap7s",
        "outputId": "1016c259-7b64-49f0-badc-351b6bba9fcf"
      },
      "source": [
        "testset[\"Gender\"] = testset[\"Gender\"].replace([0, 1],[\"Male\", \"Female\"])\n",
        "\n",
        "testset[\"Gender\"]"
      ],
      "execution_count": null,
      "outputs": [
        {
          "output_type": "stream",
          "text": [
            "C:\\Users\\salim\\Anaconda3\\lib\\site-packages\\ipykernel_launcher.py:1: SettingWithCopyWarning: \n",
            "A value is trying to be set on a copy of a slice from a DataFrame.\n",
            "Try using .loc[row_indexer,col_indexer] = value instead\n",
            "\n",
            "See the caveats in the documentation: http://pandas.pydata.org/pandas-docs/stable/user_guide/indexing.html#returning-a-view-versus-a-copy\n",
            "  \"\"\"Entry point for launching an IPython kernel.\n"
          ],
          "name": "stderr"
        },
        {
          "output_type": "execute_result",
          "data": {
            "text/plain": [
              "0        Male\n",
              "1        Male\n",
              "2        Male\n",
              "3      Female\n",
              "4      Female\n",
              "        ...  \n",
              "430    Female\n",
              "431      Male\n",
              "432      Male\n",
              "433    Female\n",
              "434    Female\n",
              "Name: Gender, Length: 435, dtype: object"
            ]
          },
          "metadata": {
            "tags": []
          },
          "execution_count": 14
        }
      ]
    },
    {
      "cell_type": "code",
      "metadata": {
        "id": "XRj4cZetap7t",
        "outputId": "788a5c88-8d0a-44ae-f5e6-a89dd09bb74b"
      },
      "source": [
        "ct = pd.crosstab(testset[\"Smoking\"], testset[\"Gender\"], margins=False)\n",
        "ct"
      ],
      "execution_count": null,
      "outputs": [
        {
          "output_type": "execute_result",
          "data": {
            "text/html": [
              "<div>\n",
              "<style scoped>\n",
              "    .dataframe tbody tr th:only-of-type {\n",
              "        vertical-align: middle;\n",
              "    }\n",
              "\n",
              "    .dataframe tbody tr th {\n",
              "        vertical-align: top;\n",
              "    }\n",
              "\n",
              "    .dataframe thead th {\n",
              "        text-align: right;\n",
              "    }\n",
              "</style>\n",
              "<table border=\"1\" class=\"dataframe\">\n",
              "  <thead>\n",
              "    <tr style=\"text-align: right;\">\n",
              "      <th>Gender</th>\n",
              "      <th>Female</th>\n",
              "      <th>Male</th>\n",
              "    </tr>\n",
              "    <tr>\n",
              "      <th>Smoking</th>\n",
              "      <th></th>\n",
              "      <th></th>\n",
              "    </tr>\n",
              "  </thead>\n",
              "  <tbody>\n",
              "    <tr>\n",
              "      <td>Current smoker</td>\n",
              "      <td>37</td>\n",
              "      <td>31</td>\n",
              "    </tr>\n",
              "    <tr>\n",
              "      <td>Nonsmoker</td>\n",
              "      <td>148</td>\n",
              "      <td>149</td>\n",
              "    </tr>\n",
              "    <tr>\n",
              "      <td>Past smoker</td>\n",
              "      <td>24</td>\n",
              "      <td>13</td>\n",
              "    </tr>\n",
              "  </tbody>\n",
              "</table>\n",
              "</div>"
            ],
            "text/plain": [
              "Gender          Female  Male\n",
              "Smoking                     \n",
              "Current smoker      37    31\n",
              "Nonsmoker          148   149\n",
              "Past smoker         24    13"
            ]
          },
          "metadata": {
            "tags": []
          },
          "execution_count": 22
        }
      ]
    },
    {
      "cell_type": "markdown",
      "metadata": {
        "id": "LlzeFb6Dap7t"
      },
      "source": [
        "Before we test for \"association\", it is helpful to understand what an \"association\" and a \"lack of association\" between two categorical variables looks like. One way to visualize this is using clustered bar charts. Let's look at the clustered bar chart produced by the Crosstabs procedure."
      ]
    },
    {
      "cell_type": "code",
      "metadata": {
        "id": "B_MZ3Vx6ap7t",
        "outputId": "973493f3-5f97-41dc-a4e4-a5ffaa8470e6"
      },
      "source": [
        " # now stack and reset\n",
        "stacked = ct.stack().reset_index().rename(columns={0:'value'})\n",
        "\n",
        " # plot grouped bar chart\n",
        "sns.barplot(x=stacked.Smoking, y=stacked.value, hue=stacked.Gender)"
      ],
      "execution_count": null,
      "outputs": [
        {
          "output_type": "execute_result",
          "data": {
            "text/plain": [
              "<matplotlib.axes._subplots.AxesSubplot at 0x26f4e2ed308>"
            ]
          },
          "metadata": {
            "tags": []
          },
          "execution_count": 23
        },
        {
          "output_type": "display_data",
          "data": {
            "image/png": "[encoded data removed]",
            "text/plain": [
              "<Figure size 432x288 with 1 Axes>"
            ]
          },
          "metadata": {
            "tags": [],
            "needs_background": "light"
          }
        }
      ]
    },
    {
      "cell_type": "markdown",
      "metadata": {
        "id": "DYDqvRu2ap7t"
      },
      "source": [
        "## Manuel Calculation"
      ]
    },
    {
      "cell_type": "markdown",
      "metadata": {
        "id": "b4l69is8ap7t"
      },
      "source": [
        "<table border=\"1\" cellspacing=\"0\">\n",
        "    <tbody>\n",
        "        <tr>\n",
        "            <td width=\"100\">&nbsp;</td>\n",
        "            <td width=\"100\"><b>Female</b></td>\n",
        "            <td width=\"100\"><b>Male</b></td>\n",
        "            <td width=\"100\"><b>Total</b></td>\n",
        "        </tr>\n",
        "        <tr>\n",
        "            <td width=\"100\"><b>Current smoker</b></td>\n",
        "            <td width=\"100\">37</td>\n",
        "            <td width=\"100\">31</td>\n",
        "            <td width=\"100\">68</td>\n",
        "        </tr>\n",
        "        <tr>\n",
        "            <td width=\"100\"><b>Nonsmoker</b></td>\n",
        "            <td width=\"100\">148</td>\n",
        "            <td width=\"100\">149</td>\n",
        "            <td width=\"100\">297</td>\n",
        "        </tr>\n",
        "        <tr>\n",
        "            <td width=\"100\"><b>Past smoker</b></td>\n",
        "            <td width=\"100\">24</td>\n",
        "            <td width=\"100\">13</td>\n",
        "            <td width=\"100\">37</td>\n",
        "        </tr>\n",
        "        <tr>\n",
        "            <td width=\"100\"><b>Total</b></td>\n",
        "            <td width=\"100\">209</td>\n",
        "            <td width=\"100\">193</td>\n",
        "            <td width=\"100\"><b>402</b></td>\n",
        "        </tr>\n",
        "    </tbody>\n",
        "</table><br>"
      ]
    },
    {
      "cell_type": "markdown",
      "metadata": {
        "id": "giyyJeaiap7u"
      },
      "source": [
        "<table border=\"1\" cellspacing=\"0\">\n",
        "    <tbody>\n",
        "        <tr>\n",
        "            <td width=\"100\"><b>Expected Values</b></td>\n",
        "            <td width=\"100\"><b>Female</b></td>\n",
        "            <td width=\"100\"><b>Male</b></td>\n",
        "            <td width=\"100\"><b>Total</b></td>\n",
        "        </tr>\n",
        "        <tr>\n",
        "            <td width=\"100\"><b>Current smoker</b></td>\n",
        "            <td width=\"100\"><span aria-hidden=\"true\">\\(  \\frac{209*68}{402}  \\)​=35.353</span></td>\n",
        "            <td width=\"100\"><math xmlns=\"http://www.w3.org/1998/Math/MathML\"><semantics><annotation encoding=\"application/x-tex\"></annotation></semantics></math>\\( \\frac{193*68}{402} \\)​<span aria-hidden=\"true\">​=32.647</span></td>\n",
        "            <td width=\"100\">68</td>\n",
        "        </tr>\n",
        "        <tr>\n",
        "            <td width=\"100\"><b>Nonsmoker</b></td>\n",
        "            <td width=\"100\"><math xmlns=\"http://www.w3.org/1998/Math/MathML\"><semantics><annotation encoding=\"application/x-tex\"></annotation></semantics></math>\\( \\frac{209*297}{402} \\)<span aria-hidden=\"true\">=154.41</span></td>\n",
        "            <td width=\"100\"><math xmlns=\"http://www.w3.org/1998/Math/MathML\"><semantics><annotation encoding=\"application/x-tex\"></annotation></semantics></math>\\( \\frac{193*297}{402} \\)​<span aria-hidden=\"true\">​</span><span aria-hidden=\"true\">​=142.59</span></td>\n",
        "            <td\n",
        "                width=\"100\">297</td>\n",
        "        </tr>\n",
        "        <tr>\n",
        "            <td width=\"100\"><b>Past smoker</b></td>\n",
        "            <td width=\"100\"><math xmlns=\"http://www.w3.org/1998/Math/MathML\"><semantics><annotation encoding=\"application/x-tex\"></annotation></semantics></math>\\( \\frac{209*37}{402} \\)​<span aria-hidden=\"true\">​=19.236</span></td>\n",
        "            <td width=\"100\"><math xmlns=\"http://www.w3.org/1998/Math/MathML\"><semantics><annotation encoding=\"application/x-tex\"></annotation></semantics></math>\\( \\frac{193*37}{402} \\)​<span aria-hidden=\"true\">​</span><span aria-hidden=\"true\">​=17.764</span></td>\n",
        "            <td\n",
        "                width=\"100\">37</td>\n",
        "        </tr>\n",
        "        <tr>\n",
        "            <td width=\"100\"><b>Total</b></td>\n",
        "            <td width=\"100\">209</td>\n",
        "            <td width=\"100\">193</td>\n",
        "            <td width=\"100\"><b>402</b></td>\n",
        "        </tr>\n",
        "    </tbody>\n",
        "</table>\n",
        "<p><br></p>"
      ]
    },
    {
      "cell_type": "markdown",
      "metadata": {
        "id": "GQ8sND3rap7u"
      },
      "source": [
        "<table border=\"1\" cellspacing=\"0\">\n",
        "    <tbody>\n",
        "        <tr>\n",
        "            <td width=\"100\"><b>Squared Distances</b></td>\n",
        "            <td width=\"100\"><b>Female</b></td>\n",
        "            <td width=\"100\"><b>Male</b></td>\n",
        "        </tr>\n",
        "        <tr>\n",
        "            <td width=\"100\"><b>Current smoker</b></td>\n",
        "            <td width=\"100\"><span aria-hidden=\"true\">\\(  \\frac{ (37−35.353)^2 }{35.353}  \\)=0.077</span></td>\n",
        "            <td width=\"100\"><math xmlns=\"http://www.w3.org/1998/Math/MathML\"><semantics><annotation encoding=\"application/x-tex\"></annotation></semantics></math>\\( \\frac{ (31−32.647)^2 }{32.647} \\)<span aria-hidden=\"true\">​=0.083</span></td>\n",
        "        </tr>\n",
        "        <tr>\n",
        "            <td width=\"100\"><b>Nonsmoker</b></td>\n",
        "            <td width=\"100\"><math xmlns=\"http://www.w3.org/1998/Math/MathML\"><semantics><annotation encoding=\"application/x-tex\"></annotation></semantics></math>\\( \\frac{ (148−154.41)^2 }{154.41} \\)<span aria-hidden=\"true\">=0.266</span></td>\n",
        "            <td width=\"100\"><math xmlns=\"http://www.w3.org/1998/Math/MathML\"><semantics><annotation encoding=\"application/x-tex\"></annotation></semantics></math>\\( \\frac{ (149−142.59)^2 }{142.59} \\)<span aria-hidden=\"true\">​=0.288</span></td>\n",
        "        </tr>\n",
        "        <tr>\n",
        "            <td width=\"100\"><b>Past smoker</b></td>\n",
        "            <td width=\"100\"><math xmlns=\"http://www.w3.org/1998/Math/MathML\"><semantics><annotation encoding=\"application/x-tex\"></annotation></semantics></math>\\( \\frac{ (24−19.236)^2 }{19.236} \\)<span aria-hidden=\"true\">=1.18</span></td>\n",
        "            <td width=\"100\"><math xmlns=\"http://www.w3.org/1998/Math/MathML\"><semantics><annotation encoding=\"application/x-tex\"></annotation></semantics></math>\\( \\frac{ (13−17.764)^2 }{17.764} \\)<span aria-hidden=\"true\">=1.277</span></td>\n",
        "        </tr>\n",
        "    </tbody>\n",
        "</table>\n",
        "<p><br></p>"
      ]
    },
    {
      "cell_type": "markdown",
      "metadata": {
        "id": "cbfOfgTEap7v"
      },
      "source": [
        "![image.png](attachment:image.png)"
      ]
    },
    {
      "cell_type": "markdown",
      "metadata": {
        "id": "ydkxPriMap7v"
      },
      "source": [
        "χ2 = 0.077+0.266+1.18+0.083+0.288+1.277 = **3.171**"
      ]
    },
    {
      "cell_type": "code",
      "metadata": {
        "id": "KkEaP6xHap7x"
      },
      "source": [
        "g, p, dof, expctd = stats.chi2_contingency(ct)"
      ],
      "execution_count": null,
      "outputs": []
    },
    {
      "cell_type": "code",
      "metadata": {
        "id": "lI8U3EEDap7x",
        "outputId": "57647ffd-d63a-4199-a046-3fdbc3f86035"
      },
      "source": [
        "print(\"statistic:\",g)\n",
        "print(\"p value:\",p)"
      ],
      "execution_count": null,
      "outputs": [
        {
          "output_type": "stream",
          "text": [
            "statistic: 3.171256766693158\n",
            "p value: 0.20481904779163018\n"
          ],
          "name": "stdout"
        }
      ]
    },
    {
      "cell_type": "markdown",
      "metadata": {
        "id": "YUct60uYap7y"
      },
      "source": [
        "![image.png](attachment:image.png)"
      ]
    },
    {
      "cell_type": "markdown",
      "metadata": {
        "id": "dMO9ClaWap7y"
      },
      "source": [
        "Since the p-value is greater than our chosen significance level (α = 0.05), we do not reject the null hypothesis. Rather, we conclude that there is not enough evidence to suggest an association between gender and smoking.\n",
        "\n",
        "Based on the results, we can state the following:\n",
        "\n",
        "No association was found between gender and smoking behavior (Χ2(2)> = 3.171, p = 0.205)."
      ]
    },
    {
      "cell_type": "markdown",
      "metadata": {
        "id": "APVhK3WIap7y"
      },
      "source": [
        "## PROBLEM STATEMENT"
      ]
    },
    {
      "cell_type": "markdown",
      "metadata": {
        "id": "amaIN8jHap7y"
      },
      "source": [
        "Test the association between **class rank** and **living on campus** using a Chi-Square Test of Independence (using α = 0.05)."
      ]
    },
    {
      "cell_type": "code",
      "metadata": {
        "id": "6kJk6Tr0ap7y",
        "outputId": "23eb87dc-205a-478b-f6a6-cf654b1b4668"
      },
      "source": [
        "survey.info()"
      ],
      "execution_count": null,
      "outputs": [
        {
          "output_type": "stream",
          "text": [
            "<class 'pandas.core.frame.DataFrame'>\n",
            "RangeIndex: 435 entries, 0 to 434\n",
            "Data columns (total 23 columns):\n",
            "ids             435 non-null int64\n",
            "bday            435 non-null object\n",
            "enrolldate      435 non-null object\n",
            "expgradate      435 non-null object\n",
            "Rank            435 non-null object\n",
            "Major           434 non-null object\n",
            "Gender          435 non-null object\n",
            "Athlete         435 non-null int64\n",
            "Height          435 non-null object\n",
            "Weight          435 non-null object\n",
            "Smoking         435 non-null object\n",
            "Sprint          435 non-null object\n",
            "MileMinDur      435 non-null object\n",
            "English         435 non-null object\n",
            "Reading         435 non-null object\n",
            "Math            435 non-null object\n",
            "Writing         435 non-null object\n",
            "State           435 non-null object\n",
            "LiveOnCampus    435 non-null object\n",
            "HowCommute      435 non-null object\n",
            "CommuteTime     435 non-null object\n",
            "SleepTime       435 non-null object\n",
            "StudyTime       435 non-null object\n",
            "dtypes: int64(2), object(21)\n",
            "memory usage: 78.3+ KB\n"
          ],
          "name": "stdout"
        }
      ]
    },
    {
      "cell_type": "code",
      "metadata": {
        "id": "JXl1zYGpap7z"
      },
      "source": [
        ""
      ],
      "execution_count": null,
      "outputs": []
    }
  ]
}